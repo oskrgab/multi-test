{
 "cells": [
  {
   "cell_type": "markdown",
   "metadata": {
    "collapsed": false
   },
   "source": [
    "## SymPy Example Using the Diffusivity Equation\n",
    "\n",
    "The radial form of the diffusivity equation for slightly compressible fluids can be written in the following form:\n",
    "\n",
    "$$\n",
    "\\frac{\\partial^2 p}{\\partial r^2} + \\frac{1}{r} \\frac{\\partial p}{\\partial r} = -\\frac{1}{\\eta} \\frac{\\partial p}{\\partial t}\n",
    "$$\n",
    "\n",
    "Recall the assumptions and limitations of this form of the diffusivity equation:\n",
    "\n",
    "1. Homogeneous and isotropic porous medium\n",
    "2. Uniform thickness\n",
    "3. Single-phase flow\n",
    "4. Laminar flow\n",
    "5. Rock and fluid properties independent of pressure\n",
    "\n",
    "To show a solution to the diffusivity equation, we will use a steady-state flow condition, i.e., $\\frac{\\partial p}{\\partial t} = 0$, and therefore the diffusivity equation reduces to:\n",
    "\n",
    "$$\n",
    "\\frac{\\partial^2 p}{\\partial r^2} + \\frac{1}{r} \\frac{\\partial p}{\\partial r} = 0\n",
    "$$\n",
    "\n",
    "The previous equation is called Laplace’s equation for steady-state flow. Which we will solve using SymPy.\n"
   ]
  },
  {
   "cell_type": "markdown",
   "metadata": {
    "collapsed": false
   },
   "source": [
    "### 1. Define the function to be solved\n",
    "\n",
    "In this case we want to solve for the pressure function, $p(r)$, which is a function of the radial distance, $r$. We will use the `Function` class from SymPy to define the function."
   ]
  },
  {
   "cell_type": "code",
   "execution_count": 1,
   "metadata": {
    "ExecuteTime": {
     "end_time": "2024-01-15T21:56:48.972966300Z",
     "start_time": "2024-01-15T21:56:45.833472900Z"
    }
   },
   "outputs": [
    {
     "data": {
      "text/latex": [
       "$\\displaystyle p{\\left(r \\right)}$"
      ],
      "text/plain": [
       "p(r)"
      ]
     },
     "execution_count": 1,
     "metadata": {},
     "output_type": "execute_result"
    }
   ],
   "source": [
    "from sympy import Eq, Function, dsolve, symbols\n",
    "from sympy.abc import r\n",
    "\n",
    "# Define the pressure function\n",
    "p = Function('p')(r)\n",
    "p"
   ]
  },
  {
   "cell_type": "markdown",
   "metadata": {
    "collapsed": false
   },
   "source": [
    "### 2. Define the differential equation\n",
    "Let's define the Laplace equation for steady-state flow in SymPy. We will use the `Eq` class to define the equation. "
   ]
  },
  {
   "cell_type": "code",
   "execution_count": 2,
   "metadata": {
    "ExecuteTime": {
     "end_time": "2024-01-15T21:56:49.140554400Z",
     "start_time": "2024-01-15T21:56:48.979968900Z"
    },
    "collapsed": false
   },
   "outputs": [
    {
     "data": {
      "text/latex": [
       "$\\displaystyle \\frac{d^{2}}{d r^{2}} p{\\left(r \\right)} + \\frac{\\frac{d}{d r} p{\\left(r \\right)}}{r} = 0$"
      ],
      "text/plain": [
       "Eq(Derivative(p(r), (r, 2)) + Derivative(p(r), r)/r, 0)"
      ]
     },
     "execution_count": 2,
     "metadata": {},
     "output_type": "execute_result"
    }
   ],
   "source": [
    "# Define the differential equation as shown in the image\n",
    "laplace_eq = Eq(p.diff(r, r) + (1/r) * p.diff(r), 0)\n",
    "laplace_eq"
   ]
  },
  {
   "cell_type": "markdown",
   "metadata": {
    "collapsed": false
   },
   "source": [
    "### 3. Define the initial conditions\n",
    "We will define the initial condition as $p(r_w) = p_{wf}$, where $r_w$ is the wellbore radius and $p_{wf}$ is the wellbore flowing pressure. We will use the `subs` method to substitute the initial condition into the differential equation."
   ]
  },
  {
   "cell_type": "code",
   "execution_count": 3,
   "metadata": {
    "ExecuteTime": {
     "end_time": "2024-01-15T21:56:49.151578700Z",
     "start_time": "2024-01-15T21:56:49.135225200Z"
    },
    "collapsed": false
   },
   "outputs": [],
   "source": [
    "# Define symbols for the initial conditions\n",
    "pwf, rw = symbols('pwf rw')\n",
    "\n",
    "# Define initial condition P(rw) = pwf\n",
    "ics={p.subs(r, rw): pwf}"
   ]
  },
  {
   "cell_type": "markdown",
   "metadata": {
    "collapsed": false
   },
   "source": [
    "### 4. Solve the differential equation\n",
    "We will use the `dsolve` function to solve the differential equation. We will pass the differential equation and the initial conditions as arguments to the `dsolve` function."
   ]
  },
  {
   "cell_type": "code",
   "execution_count": 4,
   "metadata": {
    "ExecuteTime": {
     "end_time": "2024-01-15T21:56:49.656608800Z",
     "start_time": "2024-01-15T21:56:49.146553600Z"
    },
    "collapsed": false
   },
   "outputs": [
    {
     "data": {
      "text/latex": [
       "$\\displaystyle p{\\left(r \\right)} = C_{2} \\log{\\left(r \\right)} - C_{2} \\log{\\left(rw \\right)} + pwf$"
      ],
      "text/plain": [
       "Eq(p(r), C2*log(r) - C2*log(rw) + pwf)"
      ]
     },
     "execution_count": 4,
     "metadata": {},
     "output_type": "execute_result"
    }
   ],
   "source": [
    "# Solve the differential equation\n",
    "solution = dsolve(laplace_eq, p, ics=ics)\n",
    "\n",
    "# Display the solution\n",
    "solution"
   ]
  },
  {
   "cell_type": "markdown",
   "metadata": {
    "collapsed": false
   },
   "source": [
    "### 5. Arrange the equation.\n",
    "We can manually rearrange the solution to get the radial form of the Darcy equation as follows:\n",
    "\n",
    "$$\n",
    "p(r) = p_{wf} + C_1\\: ln(r/r_w)\n",
    "$$\n",
    "\n",
    "Where $C_1 = \\frac{Q_o B_o \\mu_o}{0.00708 k h}$"
   ]
  }
 ],
 "metadata": {
  "kernelspec": {
   "display_name": "Python 3 (ipykernel)",
   "language": "python",
   "name": "python3"
  },
  "language_info": {
   "codemirror_mode": {
    "name": "ipython",
    "version": 3
   },
   "file_extension": ".py",
   "mimetype": "text/x-python",
   "name": "python",
   "nbconvert_exporter": "python",
   "pygments_lexer": "ipython3",
   "version": "3.10.8"
  }
 },
 "nbformat": 4,
 "nbformat_minor": 4
}
